{
 "cells": [
  {
   "cell_type": "code",
   "execution_count": 2,
   "metadata": {},
   "outputs": [
    {
     "data": {
      "text/html": [
       "<script>requirejs.config({paths: { 'plotly': ['https://cdn.plot.ly/plotly-latest.min']},});if(!window.Plotly) {{require(['plotly'],function(plotly) {window.Plotly=plotly;});}}</script>"
      ],
      "text/vnd.plotly.v1+html": [
       "<script>requirejs.config({paths: { 'plotly': ['https://cdn.plot.ly/plotly-latest.min']},});if(!window.Plotly) {{require(['plotly'],function(plotly) {window.Plotly=plotly;});}}</script>"
      ]
     },
     "metadata": {},
     "output_type": "display_data"
    },
    {
     "data": {
      "application/vnd.plotly.v1+json": {
       "data": [
        {
         "type": "scatter",
         "x": [
          1,
          2,
          3
         ],
         "y": [
          2,
          3,
          4
         ]
        },
        {
         "type": "scatter",
         "x": [
          2,
          3,
          4
         ],
         "xaxis": "x3",
         "y": [
          600,
          700,
          800
         ],
         "yaxis": "y3"
        },
        {
         "type": "scatter",
         "x": [
          4000,
          5000,
          6000
         ],
         "xaxis": "x4",
         "y": [
          7000,
          8000,
          9000
         ],
         "yaxis": "y4"
        }
       ],
       "layout": {
        "xaxis": {
         "domain": [
          0,
          0.45
         ]
        },
        "xaxis2": {
         "anchor": "y2",
         "domain": [
          0.55,
          1
         ]
        },
        "xaxis3": {
         "anchor": "y3",
         "domain": [
          0,
          0.45
         ]
        },
        "xaxis4": {
         "anchor": "y4",
         "domain": [
          0.55,
          1
         ]
        },
        "yaxis": {
         "domain": [
          0,
          0.45
         ]
        },
        "yaxis2": {
         "anchor": "x2",
         "domain": [
          0,
          0.45
         ]
        },
        "yaxis3": {
         "anchor": "x3",
         "domain": [
          0.55,
          1
         ]
        },
        "yaxis4": {
         "anchor": "x4",
         "domain": [
          0.55,
          1
         ]
        }
       }
      },
      "text/html": [
       "<div id=\"0bcfb851-875c-4bb9-b561-60c094882841\" style=\"height: 525px; width: 100%;\" class=\"plotly-graph-div\"></div><script type=\"text/javascript\">require([\"plotly\"], function(Plotly) { window.PLOTLYENV=window.PLOTLYENV || {};window.PLOTLYENV.BASE_URL=\"https://plot.ly\";Plotly.newPlot(\"0bcfb851-875c-4bb9-b561-60c094882841\", [{\"type\": \"scatter\", \"x\": [1, 2, 3], \"y\": [2, 3, 4]}, {\"type\": \"scatter\", \"x\": [2, 3, 4], \"y\": [600, 700, 800], \"xaxis\": \"x3\", \"yaxis\": \"y3\"}, {\"type\": \"scatter\", \"x\": [4000, 5000, 6000], \"y\": [7000, 8000, 9000], \"xaxis\": \"x4\", \"yaxis\": \"y4\"}], {\"xaxis\": {\"domain\": [0, 0.45]}, \"yaxis\": {\"domain\": [0, 0.45]}, \"xaxis2\": {\"anchor\": \"y2\", \"domain\": [0.55, 1]}, \"yaxis2\": {\"anchor\": \"x2\", \"domain\": [0, 0.45]}, \"xaxis4\": {\"domain\": [0.55, 1], \"anchor\": \"y4\"}, \"xaxis3\": {\"domain\": [0, 0.45], \"anchor\": \"y3\"}, \"yaxis3\": {\"domain\": [0.55, 1], \"anchor\": \"x3\"}, \"yaxis4\": {\"domain\": [0.55, 1], \"anchor\": \"x4\"}}, {\"showLink\": true, \"linkText\": \"Export to plot.ly\"})});</script>"
      ],
      "text/vnd.plotly.v1+html": [
       "<div id=\"0bcfb851-875c-4bb9-b561-60c094882841\" style=\"height: 525px; width: 100%;\" class=\"plotly-graph-div\"></div><script type=\"text/javascript\">require([\"plotly\"], function(Plotly) { window.PLOTLYENV=window.PLOTLYENV || {};window.PLOTLYENV.BASE_URL=\"https://plot.ly\";Plotly.newPlot(\"0bcfb851-875c-4bb9-b561-60c094882841\", [{\"type\": \"scatter\", \"x\": [1, 2, 3], \"y\": [2, 3, 4]}, {\"type\": \"scatter\", \"x\": [2, 3, 4], \"y\": [600, 700, 800], \"xaxis\": \"x3\", \"yaxis\": \"y3\"}, {\"type\": \"scatter\", \"x\": [4000, 5000, 6000], \"y\": [7000, 8000, 9000], \"xaxis\": \"x4\", \"yaxis\": \"y4\"}], {\"xaxis\": {\"domain\": [0, 0.45]}, \"yaxis\": {\"domain\": [0, 0.45]}, \"xaxis2\": {\"anchor\": \"y2\", \"domain\": [0.55, 1]}, \"yaxis2\": {\"anchor\": \"x2\", \"domain\": [0, 0.45]}, \"xaxis4\": {\"domain\": [0.55, 1], \"anchor\": \"y4\"}, \"xaxis3\": {\"domain\": [0, 0.45], \"anchor\": \"y3\"}, \"yaxis3\": {\"domain\": [0.55, 1], \"anchor\": \"x3\"}, \"yaxis4\": {\"domain\": [0.55, 1], \"anchor\": \"x4\"}}, {\"showLink\": true, \"linkText\": \"Export to plot.ly\"})});</script>"
      ]
     },
     "metadata": {},
     "output_type": "display_data"
    }
   ],
   "source": [
    "import plotly.offline as py\n",
    "import plotly.graph_objs as go\n",
    "py.init_notebook_mode(connected=True)\n",
    "trace1 = go.Scatter(\n",
    "    x=[1, 2, 3],\n",
    "    y=[2, 3, 4]\n",
    ")\n",
    "trace2 = go.Scatter(\n",
    "    x=[20, 30, 40],\n",
    "    y=[5, 5, 5],\n",
    "    xaxis='x2',\n",
    "    yaxis='y2'\n",
    ")\n",
    "trace3 = go.Scatter(\n",
    "    x=[2, 3, 4],\n",
    "    y=[600, 700, 800],\n",
    "    xaxis='x3',\n",
    "    yaxis='y3'\n",
    ")\n",
    "trace4 = go.Scatter(\n",
    "    x=[4000, 5000, 6000],\n",
    "    y=[7000, 8000, 9000],\n",
    "    xaxis='x4',\n",
    "    yaxis='y4'\n",
    ")\n",
    "data = [trace1, trace3, trace4]\n",
    "layout = go.Layout(\n",
    "    xaxis=dict(\n",
    "        domain=[0, 0.45]\n",
    "    ),\n",
    "    yaxis=dict(\n",
    "        domain=[0, 0.45]\n",
    "    ),\n",
    "    xaxis2=dict(\n",
    "        anchor='y2',\n",
    "        domain=[0.55, 1]\n",
    "    ),\n",
    "    \n",
    "    yaxis2=dict(\n",
    "        anchor='x2',\n",
    "        domain=[0, 0.45]\n",
    "    ),\n",
    "    \n",
    "    xaxis4=dict(\n",
    "        domain=[0.55, 1],\n",
    "        anchor='y4'\n",
    "    ),\n",
    "    xaxis3=dict(\n",
    "        domain=[0, 0.45],\n",
    "        anchor='y3'\n",
    "    ),\n",
    "    yaxis3=dict(\n",
    "        domain=[0.55, 1],\n",
    "        anchor='x3'\n",
    "    ),\n",
    "    yaxis4=dict(\n",
    "        domain=[0.55, 1],\n",
    "        anchor='x4'\n",
    "    )\n",
    ")\n",
    "\n",
    "\n",
    "fig = go.Figure(data=data, layout=layout)\n",
    "py.iplot(fig, filename='shared-axes-subplots')"
   ]
  },
  {
   "cell_type": "code",
   "execution_count": 13,
   "metadata": {},
   "outputs": [
    {
     "data": {
      "application/vnd.plotly.v1+json": {
       "data": [
        {
         "type": "scatter",
         "x": [
          1,
          2,
          3
         ],
         "y": [
          2,
          3,
          4
         ]
        },
        {
         "type": "scatter",
         "x": [
          20,
          30,
          40
         ],
         "xaxis": "x2",
         "y": [
          5,
          5,
          5
         ],
         "yaxis": "y"
        },
        {
         "type": "scatter",
         "x": [
          2,
          3,
          4
         ],
         "xaxis": "x",
         "y": [
          600,
          700,
          800
         ],
         "yaxis": "y3"
        },
        {
         "type": "scatter",
         "x": [
          4000,
          5000,
          6000
         ],
         "xaxis": "x4",
         "y": [
          7000,
          8000,
          9000
         ],
         "yaxis": "y3"
        }
       ],
       "layout": {
        "xaxis": {
         "domain": [
          0,
          0.45
         ]
        },
        "xaxis2": {
         "domain": [
          0.55,
          1
         ]
        },
        "xaxis4": {
         "anchor": "y3",
         "domain": [
          0.55,
          1
         ]
        },
        "yaxis": {
         "domain": [
          0,
          0.45
         ]
        },
        "yaxis3": {
         "domain": [
          0.55,
          1
         ]
        }
       }
      },
      "text/html": [
       "<div id=\"38caf114-e370-412c-89a9-15ed36de0fc6\" style=\"height: 525px; width: 100%;\" class=\"plotly-graph-div\"></div><script type=\"text/javascript\">require([\"plotly\"], function(Plotly) { window.PLOTLYENV=window.PLOTLYENV || {};window.PLOTLYENV.BASE_URL=\"https://plot.ly\";Plotly.newPlot(\"38caf114-e370-412c-89a9-15ed36de0fc6\", [{\"type\": \"scatter\", \"x\": [1, 2, 3], \"y\": [2, 3, 4]}, {\"type\": \"scatter\", \"x\": [20, 30, 40], \"y\": [5, 5, 5], \"xaxis\": \"x2\", \"yaxis\": \"y\"}, {\"type\": \"scatter\", \"x\": [2, 3, 4], \"y\": [600, 700, 800], \"xaxis\": \"x\", \"yaxis\": \"y3\"}, {\"type\": \"scatter\", \"x\": [4000, 5000, 6000], \"y\": [7000, 8000, 9000], \"xaxis\": \"x4\", \"yaxis\": \"y3\"}], {\"xaxis\": {\"domain\": [0, 0.45]}, \"yaxis\": {\"domain\": [0, 0.45]}, \"xaxis2\": {\"domain\": [0.55, 1]}, \"xaxis4\": {\"domain\": [0.55, 1], \"anchor\": \"y3\"}, \"yaxis3\": {\"domain\": [0.55, 1]}}, {\"showLink\": true, \"linkText\": \"Export to plot.ly\"})});</script>"
      ],
      "text/vnd.plotly.v1+html": [
       "<div id=\"38caf114-e370-412c-89a9-15ed36de0fc6\" style=\"height: 525px; width: 100%;\" class=\"plotly-graph-div\"></div><script type=\"text/javascript\">require([\"plotly\"], function(Plotly) { window.PLOTLYENV=window.PLOTLYENV || {};window.PLOTLYENV.BASE_URL=\"https://plot.ly\";Plotly.newPlot(\"38caf114-e370-412c-89a9-15ed36de0fc6\", [{\"type\": \"scatter\", \"x\": [1, 2, 3], \"y\": [2, 3, 4]}, {\"type\": \"scatter\", \"x\": [20, 30, 40], \"y\": [5, 5, 5], \"xaxis\": \"x2\", \"yaxis\": \"y\"}, {\"type\": \"scatter\", \"x\": [2, 3, 4], \"y\": [600, 700, 800], \"xaxis\": \"x\", \"yaxis\": \"y3\"}, {\"type\": \"scatter\", \"x\": [4000, 5000, 6000], \"y\": [7000, 8000, 9000], \"xaxis\": \"x4\", \"yaxis\": \"y3\"}], {\"xaxis\": {\"domain\": [0, 0.45]}, \"yaxis\": {\"domain\": [0, 0.45]}, \"xaxis2\": {\"domain\": [0.55, 1]}, \"xaxis4\": {\"domain\": [0.55, 1], \"anchor\": \"y3\"}, \"yaxis3\": {\"domain\": [0.55, 1]}}, {\"showLink\": true, \"linkText\": \"Export to plot.ly\"})});</script>"
      ]
     },
     "metadata": {},
     "output_type": "display_data"
    }
   ],
   "source": [
    "trace1 = go.Scatter(\n",
    "    x=[1, 2, 3],\n",
    "    y=[2, 3, 4]\n",
    ")\n",
    "trace2 = go.Scatter(\n",
    "    x=[20, 30, 40],\n",
    "    y=[5, 5, 5],\n",
    "    xaxis='x2',\n",
    "    yaxis='y'\n",
    ")\n",
    "trace3 = go.Scatter(\n",
    "    x=[2, 3, 4],\n",
    "    y=[600, 700, 800],\n",
    "    xaxis='x',\n",
    "    yaxis='y3'\n",
    ")\n",
    "trace4 = go.Scatter(\n",
    "    x=[4000, 5000, 6000],\n",
    "    y=[7000, 8000, 9000],\n",
    "    xaxis='x4',\n",
    "    yaxis='y3'\n",
    ")\n",
    "data = [trace1, trace2, trace3, trace4]\n",
    "layout = go.Layout(\n",
    "    xaxis=dict(\n",
    "        domain=[0, 0.45]\n",
    "    ),\n",
    "    yaxis=dict(\n",
    "        domain=[0, 0.45]\n",
    "    ),\n",
    "    xaxis2=dict(\n",
    "        domain=[0.55, 1]\n",
    "    ),\n",
    "    xaxis4=dict(\n",
    "        domain=[0.55, 1],\n",
    "        anchor='y3'\n",
    "    ),\n",
    "    yaxis3=dict(\n",
    "        domain=[0.55, 1]\n",
    "    ),\n",
    "    \n",
    ")\n",
    "fig = go.Figure(data=data, layout=layout)\n",
    "py.iplot(fig, filename='shared-axes-subplots')"
   ]
  },
  {
   "cell_type": "code",
   "execution_count": 14,
   "metadata": {},
   "outputs": [
    {
     "data": {
      "application/vnd.plotly.v1+json": {
       "data": [
        {
         "type": "scatter",
         "x": [
          1,
          2,
          3
         ],
         "y": [
          2,
          3,
          4
         ]
        },
        {
         "type": "scatter",
         "x": [
          20,
          30,
          40
         ],
         "xaxis": "x2",
         "y": [
          5,
          5,
          5
         ],
         "yaxis": "y"
        },
        {
         "type": "scatter",
         "x": [
          2,
          3,
          4
         ],
         "xaxis": "x",
         "y": [
          600,
          700,
          800
         ],
         "yaxis": "y3"
        },
        {
         "type": "scatter",
         "x": [
          4000,
          5000,
          6000
         ],
         "xaxis": "x4",
         "y": [
          7000,
          8000,
          9000
         ],
         "yaxis": "y4"
        }
       ],
       "layout": {
        "xaxis": {
         "domain": [
          0,
          0.45
         ]
        },
        "xaxis2": {
         "domain": [
          0.55,
          1
         ]
        },
        "xaxis4": {
         "anchor": "y4",
         "domain": [
          0.55,
          1
         ]
        },
        "yaxis": {
         "domain": [
          0,
          0.45
         ]
        },
        "yaxis3": {
         "domain": [
          0.55,
          1
         ]
        },
        "yaxis4": {
         "anchor": "x4",
         "domain": [
          0.55,
          1
         ]
        }
       }
      },
      "text/html": [
       "<div id=\"127521b8-4179-484c-ac77-b6bde1b3376e\" style=\"height: 525px; width: 100%;\" class=\"plotly-graph-div\"></div><script type=\"text/javascript\">require([\"plotly\"], function(Plotly) { window.PLOTLYENV=window.PLOTLYENV || {};window.PLOTLYENV.BASE_URL=\"https://plot.ly\";Plotly.newPlot(\"127521b8-4179-484c-ac77-b6bde1b3376e\", [{\"type\": \"scatter\", \"x\": [1, 2, 3], \"y\": [2, 3, 4]}, {\"type\": \"scatter\", \"x\": [20, 30, 40], \"y\": [5, 5, 5], \"xaxis\": \"x2\", \"yaxis\": \"y\"}, {\"type\": \"scatter\", \"x\": [2, 3, 4], \"y\": [600, 700, 800], \"xaxis\": \"x\", \"yaxis\": \"y3\"}, {\"type\": \"scatter\", \"x\": [4000, 5000, 6000], \"y\": [7000, 8000, 9000], \"xaxis\": \"x4\", \"yaxis\": \"y4\"}], {\"xaxis\": {\"domain\": [0, 0.45]}, \"yaxis\": {\"domain\": [0, 0.45]}, \"xaxis2\": {\"domain\": [0.55, 1]}, \"xaxis4\": {\"domain\": [0.55, 1], \"anchor\": \"y4\"}, \"yaxis3\": {\"domain\": [0.55, 1]}, \"yaxis4\": {\"domain\": [0.55, 1], \"anchor\": \"x4\"}}, {\"showLink\": true, \"linkText\": \"Export to plot.ly\"})});</script>"
      ],
      "text/vnd.plotly.v1+html": [
       "<div id=\"127521b8-4179-484c-ac77-b6bde1b3376e\" style=\"height: 525px; width: 100%;\" class=\"plotly-graph-div\"></div><script type=\"text/javascript\">require([\"plotly\"], function(Plotly) { window.PLOTLYENV=window.PLOTLYENV || {};window.PLOTLYENV.BASE_URL=\"https://plot.ly\";Plotly.newPlot(\"127521b8-4179-484c-ac77-b6bde1b3376e\", [{\"type\": \"scatter\", \"x\": [1, 2, 3], \"y\": [2, 3, 4]}, {\"type\": \"scatter\", \"x\": [20, 30, 40], \"y\": [5, 5, 5], \"xaxis\": \"x2\", \"yaxis\": \"y\"}, {\"type\": \"scatter\", \"x\": [2, 3, 4], \"y\": [600, 700, 800], \"xaxis\": \"x\", \"yaxis\": \"y3\"}, {\"type\": \"scatter\", \"x\": [4000, 5000, 6000], \"y\": [7000, 8000, 9000], \"xaxis\": \"x4\", \"yaxis\": \"y4\"}], {\"xaxis\": {\"domain\": [0, 0.45]}, \"yaxis\": {\"domain\": [0, 0.45]}, \"xaxis2\": {\"domain\": [0.55, 1]}, \"xaxis4\": {\"domain\": [0.55, 1], \"anchor\": \"y4\"}, \"yaxis3\": {\"domain\": [0.55, 1]}, \"yaxis4\": {\"domain\": [0.55, 1], \"anchor\": \"x4\"}}, {\"showLink\": true, \"linkText\": \"Export to plot.ly\"})});</script>"
      ]
     },
     "metadata": {},
     "output_type": "display_data"
    }
   ],
   "source": [
    "trace1 = go.Scatter(\n",
    "    x=[1, 2, 3],\n",
    "    y=[2, 3, 4]\n",
    ")\n",
    "trace2 = go.Scatter(\n",
    "    x=[20, 30, 40],\n",
    "    y=[5, 5, 5],\n",
    "    xaxis='x2',\n",
    "    yaxis='y'\n",
    ")\n",
    "trace3 = go.Scatter(\n",
    "    x=[2, 3, 4],\n",
    "    y=[600, 700, 800],\n",
    "    xaxis='x',\n",
    "    yaxis='y3'\n",
    ")\n",
    "trace4 = go.Scatter(\n",
    "    x=[4000, 5000, 6000],\n",
    "    y=[7000, 8000, 9000],\n",
    "    xaxis='x4',\n",
    "    yaxis='y4'\n",
    ")\n",
    "data = [trace1, trace2, trace3, trace4]\n",
    "layout = go.Layout(\n",
    "    xaxis=dict(\n",
    "        domain=[0, 0.45]\n",
    "    ),\n",
    "    yaxis=dict(\n",
    "        domain=[0, 0.45]\n",
    "    ),\n",
    "    xaxis2=dict(\n",
    "        domain=[0.55, 1]\n",
    "    ),\n",
    "    xaxis4=dict(\n",
    "        domain=[0.55, 1],\n",
    "        anchor='y4'\n",
    "    ),\n",
    "    yaxis3=dict(\n",
    "        domain=[0.55, 1]\n",
    "    ),\n",
    "    yaxis4=dict(\n",
    "        domain=[0.55, 1],\n",
    "        anchor='x4'\n",
    "    )\n",
    ")\n",
    "fig = go.Figure(data=data, layout=layout)\n",
    "py.iplot(fig, filename='shared-axes-subplots')"
   ]
  },
  {
   "cell_type": "code",
   "execution_count": 21,
   "metadata": {
    "collapsed": true
   },
   "outputs": [],
   "source": [
    "data = [go.Bar(\n",
    "            y=[1],\n",
    "            x=['2018-1-28'],\n",
    "            text=[1],\n",
    "            textposition='outside',\n",
    "            name='新提交的BUG',\n",
    "            marker=dict(\n",
    "                color='#106a9c',\n",
    "            ),\n",
    "            #textfont=dict(size=22),\n",
    "            outsidetextfont=dict(size=11),\n",
    "            constraintext='inside'\n",
    "            #opacity=0.9\n",
    "        ),]"
   ]
  },
  {
   "cell_type": "code",
   "execution_count": null,
   "metadata": {
    "collapsed": true
   },
   "outputs": [],
   "source": [
    "bandxaxis = go.XAxis(\n",
    "        range=[(created_by_day.index[0] - 1).strftime('%y-%m-%d'),\n",
    "               (created_by_day.index[-1] + 1).strftime('%y-%m-%d'),],\n",
    "        ticks=\"\", \n",
    "        showticklabels=True,\n",
    "        ticktext=list(created_by_day.index.strftime('%b %d')),\n",
    "        tickvals=list(created_by_day.index.strftime('%y-%m-%d')),\n",
    "        tickfont=dict(size=16)\n",
    "    )"
   ]
  },
  {
   "cell_type": "code",
   "execution_count": 22,
   "metadata": {},
   "outputs": [
    {
     "data": {
      "application/vnd.plotly.v1+json": {
       "data": [
        {
         "constraintext": "inside",
         "marker": {
          "color": "#106a9c"
         },
         "name": "新提交的BUG",
         "outsidetextfont": {
          "size": 11
         },
         "text": [
          1
         ],
         "textposition": "outside",
         "type": "bar",
         "x": [
          "2018-1-28"
         ],
         "y": [
          1
         ]
        }
       ],
       "layout": {}
      },
      "text/html": [
       "<div id=\"025aa465-0d63-4fd7-bcf3-2cef55dfd9cc\" style=\"height: 525px; width: 100%;\" class=\"plotly-graph-div\"></div><script type=\"text/javascript\">require([\"plotly\"], function(Plotly) { window.PLOTLYENV=window.PLOTLYENV || {};window.PLOTLYENV.BASE_URL=\"https://plot.ly\";Plotly.newPlot(\"025aa465-0d63-4fd7-bcf3-2cef55dfd9cc\", [{\"type\": \"bar\", \"y\": [1], \"x\": [\"2018-1-28\"], \"text\": [1], \"textposition\": \"outside\", \"name\": \"\\u65b0\\u63d0\\u4ea4\\u7684BUG\", \"marker\": {\"color\": \"#106a9c\"}, \"outsidetextfont\": {\"size\": 11}, \"constraintext\": \"inside\"}], {}, {\"showLink\": true, \"linkText\": \"Export to plot.ly\"})});</script>"
      ],
      "text/vnd.plotly.v1+html": [
       "<div id=\"025aa465-0d63-4fd7-bcf3-2cef55dfd9cc\" style=\"height: 525px; width: 100%;\" class=\"plotly-graph-div\"></div><script type=\"text/javascript\">require([\"plotly\"], function(Plotly) { window.PLOTLYENV=window.PLOTLYENV || {};window.PLOTLYENV.BASE_URL=\"https://plot.ly\";Plotly.newPlot(\"025aa465-0d63-4fd7-bcf3-2cef55dfd9cc\", [{\"type\": \"bar\", \"y\": [1], \"x\": [\"2018-1-28\"], \"text\": [1], \"textposition\": \"outside\", \"name\": \"\\u65b0\\u63d0\\u4ea4\\u7684BUG\", \"marker\": {\"color\": \"#106a9c\"}, \"outsidetextfont\": {\"size\": 11}, \"constraintext\": \"inside\"}], {}, {\"showLink\": true, \"linkText\": \"Export to plot.ly\"})});</script>"
      ]
     },
     "metadata": {},
     "output_type": "display_data"
    }
   ],
   "source": [
    "fig = go.Figure(data=data)\n",
    "py.iplot(fig)"
   ]
  },
  {
   "cell_type": "code",
   "execution_count": 16,
   "metadata": {},
   "outputs": [
    {
     "data": {
      "text/plain": [
       "range(1, 2)"
      ]
     },
     "execution_count": 16,
     "metadata": {},
     "output_type": "execute_result"
    }
   ],
   "source": [
    "x"
   ]
  },
  {
   "cell_type": "code",
   "execution_count": 17,
   "metadata": {},
   "outputs": [
    {
     "data": {
      "text/plain": [
       "[1]"
      ]
     },
     "execution_count": 17,
     "metadata": {},
     "output_type": "execute_result"
    }
   ],
   "source": [
    "list(x)"
   ]
  },
  {
   "cell_type": "code",
   "execution_count": 19,
   "metadata": {},
   "outputs": [
    {
     "name": "stdout",
     "output_type": "stream",
     "text": [
      "hh\n"
     ]
    }
   ],
   "source": [
    "for x in range(1,2):\n",
    "    print('hh')"
   ]
  },
  {
   "cell_type": "code",
   "execution_count": 7,
   "metadata": {},
   "outputs": [
    {
     "data": {
      "application/vnd.plotly.v1+json": {
       "data": [
        {
         "boxpoints": "all",
         "jitter": 0.5,
         "pointpos": 0,
         "type": "box",
         "y": [
          0,
          1,
          1,
          2,
          3,
          5,
          8,
          13,
          21
         ]
        }
       ],
       "layout": {}
      },
      "text/html": [
       "<div id=\"bfba2288-3448-4853-8ee7-4a0512255ee3\" style=\"height: 525px; width: 100%;\" class=\"plotly-graph-div\"></div><script type=\"text/javascript\">require([\"plotly\"], function(Plotly) { window.PLOTLYENV=window.PLOTLYENV || {};window.PLOTLYENV.BASE_URL=\"https://plot.ly\";Plotly.newPlot(\"bfba2288-3448-4853-8ee7-4a0512255ee3\", [{\"type\": \"box\", \"y\": [0, 1, 1, 2, 3, 5, 8, 13, 21], \"boxpoints\": \"all\", \"jitter\": 0.5, \"pointpos\": 0}], {}, {\"showLink\": true, \"linkText\": \"Export to plot.ly\"})});</script>"
      ],
      "text/vnd.plotly.v1+html": [
       "<div id=\"bfba2288-3448-4853-8ee7-4a0512255ee3\" style=\"height: 525px; width: 100%;\" class=\"plotly-graph-div\"></div><script type=\"text/javascript\">require([\"plotly\"], function(Plotly) { window.PLOTLYENV=window.PLOTLYENV || {};window.PLOTLYENV.BASE_URL=\"https://plot.ly\";Plotly.newPlot(\"bfba2288-3448-4853-8ee7-4a0512255ee3\", [{\"type\": \"box\", \"y\": [0, 1, 1, 2, 3, 5, 8, 13, 21], \"boxpoints\": \"all\", \"jitter\": 0.5, \"pointpos\": 0}], {}, {\"showLink\": true, \"linkText\": \"Export to plot.ly\"})});</script>"
      ]
     },
     "metadata": {},
     "output_type": "display_data"
    }
   ],
   "source": [
    "data = [\n",
    "    go.Box(\n",
    "        y=[0, 1, 1, 2, 3, 5, 8, 13, 21],\n",
    "        boxpoints='all',\n",
    "        jitter=0.5,\n",
    "        pointpos=0\n",
    "    )\n",
    "]\n",
    "py.iplot(data)"
   ]
  },
  {
   "cell_type": "code",
   "execution_count": 12,
   "metadata": {},
   "outputs": [
    {
     "data": {
      "application/vnd.plotly.v1+json": {
       "data": [
        {
         "type": "scatter",
         "x": [
          "a",
          "b",
          "c"
         ],
         "y": [
          4,
          3,
          2
         ]
        },
        {
         "type": "scatter",
         "x": [
          "a",
          "b",
          "c"
         ],
         "xaxis": "x1",
         "y": [
          3,
          4,
          5
         ],
         "yaxis": "y1"
        }
       ],
       "layout": {}
      },
      "text/html": [
       "<div id=\"e429516d-d611-4f81-9692-b85bf86eb694\" style=\"height: 525px; width: 100%;\" class=\"plotly-graph-div\"></div><script type=\"text/javascript\">require([\"plotly\"], function(Plotly) { window.PLOTLYENV=window.PLOTLYENV || {};window.PLOTLYENV.BASE_URL=\"https://plot.ly\";Plotly.newPlot(\"e429516d-d611-4f81-9692-b85bf86eb694\", [{\"type\": \"scatter\", \"x\": [\"a\", \"b\", \"c\"], \"y\": [4, 3, 2]}, {\"type\": \"scatter\", \"x\": [\"a\", \"b\", \"c\"], \"y\": [3, 4, 5], \"xaxis\": \"x1\", \"yaxis\": \"y1\"}], {}, {\"showLink\": true, \"linkText\": \"Export to plot.ly\"})});</script>"
      ],
      "text/vnd.plotly.v1+html": [
       "<div id=\"e429516d-d611-4f81-9692-b85bf86eb694\" style=\"height: 525px; width: 100%;\" class=\"plotly-graph-div\"></div><script type=\"text/javascript\">require([\"plotly\"], function(Plotly) { window.PLOTLYENV=window.PLOTLYENV || {};window.PLOTLYENV.BASE_URL=\"https://plot.ly\";Plotly.newPlot(\"e429516d-d611-4f81-9692-b85bf86eb694\", [{\"type\": \"scatter\", \"x\": [\"a\", \"b\", \"c\"], \"y\": [4, 3, 2]}, {\"type\": \"scatter\", \"x\": [\"a\", \"b\", \"c\"], \"y\": [3, 4, 5], \"xaxis\": \"x1\", \"yaxis\": \"y1\"}], {}, {\"showLink\": true, \"linkText\": \"Export to plot.ly\"})});</script>"
      ]
     },
     "metadata": {},
     "output_type": "display_data"
    }
   ],
   "source": [
    "\n",
    "import plotly.plotly as py\n",
    "import plotly.graph_objs as go\n",
    "\n",
    "trace1 = go.Scatter(\n",
    "    x=[1, 2, 3],\n",
    "    y=[4, 3, 2]\n",
    ")\n",
    "trace2 = go.Scatter(\n",
    "    x=[20, 30, 40],\n",
    "    y=[30, 40, 50],\n",
    "    xaxis='x2',\n",
    "    yaxis='y2'\n",
    ")\n",
    "data = [trace1, trace2]\n",
    "layout = go.Layout(\n",
    "    xaxis2=dict(\n",
    "        domain=[0.6, 0.95],\n",
    "        anchor='y2'\n",
    "    ),\n",
    "    yaxis2=dict(\n",
    "        domain=[0.6, 0.95],\n",
    "        anchor='x2'\n",
    "    )\n",
    ")\n",
    "fig = go.Figure(data=data, layout=layout)\n",
    "py.iplot(fig, filename='simple-inset')"
   ]
  },
  {
   "cell_type": "code",
   "execution_count": 14,
   "metadata": {},
   "outputs": [
    {
     "data": {
      "text/plain": [
       "8"
      ]
     },
     "execution_count": 14,
     "metadata": {},
     "output_type": "execute_result"
    }
   ],
   "source": [
    "10^2"
   ]
  },
  {
   "cell_type": "code",
   "execution_count": null,
   "metadata": {
    "collapsed": true
   },
   "outputs": [],
   "source": []
  }
 ],
 "metadata": {
  "kernelspec": {
   "display_name": "Python 3",
   "language": "python",
   "name": "python3"
  },
  "language_info": {
   "codemirror_mode": {
    "name": "ipython",
    "version": 3
   },
   "file_extension": ".py",
   "mimetype": "text/x-python",
   "name": "python",
   "nbconvert_exporter": "python",
   "pygments_lexer": "ipython3",
   "version": "3.6.2"
  }
 },
 "nbformat": 4,
 "nbformat_minor": 2
}
