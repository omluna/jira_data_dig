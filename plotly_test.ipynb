{
 "cells": [
  {
   "cell_type": "code",
   "execution_count": 24,
   "metadata": {},
   "outputs": [
    {
     "data": {
      "text/html": [
       "<script>requirejs.config({paths: { 'plotly': ['https://cdn.plot.ly/plotly-latest.min']},});if(!window.Plotly) {{require(['plotly'],function(plotly) {window.Plotly=plotly;});}}</script>"
      ],
      "text/vnd.plotly.v1+html": [
       "<script>requirejs.config({paths: { 'plotly': ['https://cdn.plot.ly/plotly-latest.min']},});if(!window.Plotly) {{require(['plotly'],function(plotly) {window.Plotly=plotly;});}}</script>"
      ]
     },
     "metadata": {},
     "output_type": "display_data"
    },
    {
     "data": {
      "application/vnd.plotly.v1+json": {
       "data": [
        {
         "marker": {
          "color": "#125488"
         },
         "name": "Rest of world",
         "opacity": 0.6,
         "type": "bar",
         "x": [
          1995,
          1996,
          1997,
          1998,
          1999,
          2000,
          2001,
          2002,
          2003,
          2004,
          2005,
          2006,
          2007,
          2008,
          2009,
          2010,
          2011,
          2012
         ],
         "y": [
          219,
          146,
          112,
          127,
          124,
          180,
          236,
          207,
          236,
          263,
          350,
          430,
          474,
          526,
          488,
          537,
          500,
          439
         ]
        },
        {
         "marker": {
          "color": "rgb(58,200,225)"
         },
         "name": "China",
         "type": "bar",
         "width": [
          0.5,
          0.5,
          0.5,
          0.5,
          0.5,
          0.5,
          0.5,
          0.5,
          0.5,
          0.5,
          0.5,
          0.5,
          0.5,
          0.5,
          0.5,
          0.5,
          0.5,
          0.5
         ],
         "x": [
          1995,
          1996,
          1997,
          1998,
          1999,
          2000,
          2001,
          2002,
          2003,
          2004,
          2005,
          2006,
          2007,
          2008,
          2009,
          2010,
          2011,
          2012
         ],
         "y": [
          16,
          13,
          10,
          11,
          28,
          37,
          43,
          55,
          56,
          88,
          105,
          156,
          270,
          299,
          340,
          403,
          549,
          499
         ]
        }
       ],
       "layout": {
        "bargap": 0.15,
        "bargroupgap": 0.1,
        "barmode": "overlay",
        "legend": {
         "bgcolor": "rgba(255, 255, 255, 0)",
         "bordercolor": "rgba(255, 255, 255, 0)",
         "x": 0,
         "y": 1
        },
        "title": "US Export of Plastic Scrap",
        "xaxis": {
         "tickfont": {
          "color": "rgb(107, 107, 107)",
          "size": 14
         }
        },
        "yaxis": {
         "tickfont": {
          "color": "rgb(107, 107, 107)",
          "size": 14
         },
         "title": "USD (millions)",
         "titlefont": {
          "color": "rgb(107, 107, 107)",
          "size": 16
         }
        }
       }
      },
      "text/html": [
       "<div id=\"13ca0deb-c0cc-41be-95e9-e7fe9330ace0\" style=\"height: 525px; width: 100%;\" class=\"plotly-graph-div\"></div><script type=\"text/javascript\">require([\"plotly\"], function(Plotly) { window.PLOTLYENV=window.PLOTLYENV || {};window.PLOTLYENV.BASE_URL=\"https://plot.ly\";Plotly.newPlot(\"13ca0deb-c0cc-41be-95e9-e7fe9330ace0\", [{\"type\": \"bar\", \"x\": [1995, 1996, 1997, 1998, 1999, 2000, 2001, 2002, 2003, 2004, 2005, 2006, 2007, 2008, 2009, 2010, 2011, 2012], \"y\": [219, 146, 112, 127, 124, 180, 236, 207, 236, 263, 350, 430, 474, 526, 488, 537, 500, 439], \"name\": \"Rest of world\", \"marker\": {\"color\": \"#125488\"}, \"opacity\": 0.6}, {\"type\": \"bar\", \"x\": [1995, 1996, 1997, 1998, 1999, 2000, 2001, 2002, 2003, 2004, 2005, 2006, 2007, 2008, 2009, 2010, 2011, 2012], \"y\": [16, 13, 10, 11, 28, 37, 43, 55, 56, 88, 105, 156, 270, 299, 340, 403, 549, 499], \"width\": [0.5, 0.5, 0.5, 0.5, 0.5, 0.5, 0.5, 0.5, 0.5, 0.5, 0.5, 0.5, 0.5, 0.5, 0.5, 0.5, 0.5, 0.5], \"name\": \"China\", \"marker\": {\"color\": \"rgb(58,200,225)\"}}], {\"title\": \"US Export of Plastic Scrap\", \"xaxis\": {\"tickfont\": {\"size\": 14, \"color\": \"rgb(107, 107, 107)\"}}, \"yaxis\": {\"title\": \"USD (millions)\", \"titlefont\": {\"size\": 16, \"color\": \"rgb(107, 107, 107)\"}, \"tickfont\": {\"size\": 14, \"color\": \"rgb(107, 107, 107)\"}}, \"legend\": {\"x\": 0, \"y\": 1.0, \"bgcolor\": \"rgba(255, 255, 255, 0)\", \"bordercolor\": \"rgba(255, 255, 255, 0)\"}, \"barmode\": \"overlay\", \"bargap\": 0.15, \"bargroupgap\": 0.1}, {\"showLink\": true, \"linkText\": \"Export to plot.ly\"})});</script>"
      ],
      "text/vnd.plotly.v1+html": [
       "<div id=\"13ca0deb-c0cc-41be-95e9-e7fe9330ace0\" style=\"height: 525px; width: 100%;\" class=\"plotly-graph-div\"></div><script type=\"text/javascript\">require([\"plotly\"], function(Plotly) { window.PLOTLYENV=window.PLOTLYENV || {};window.PLOTLYENV.BASE_URL=\"https://plot.ly\";Plotly.newPlot(\"13ca0deb-c0cc-41be-95e9-e7fe9330ace0\", [{\"type\": \"bar\", \"x\": [1995, 1996, 1997, 1998, 1999, 2000, 2001, 2002, 2003, 2004, 2005, 2006, 2007, 2008, 2009, 2010, 2011, 2012], \"y\": [219, 146, 112, 127, 124, 180, 236, 207, 236, 263, 350, 430, 474, 526, 488, 537, 500, 439], \"name\": \"Rest of world\", \"marker\": {\"color\": \"#125488\"}, \"opacity\": 0.6}, {\"type\": \"bar\", \"x\": [1995, 1996, 1997, 1998, 1999, 2000, 2001, 2002, 2003, 2004, 2005, 2006, 2007, 2008, 2009, 2010, 2011, 2012], \"y\": [16, 13, 10, 11, 28, 37, 43, 55, 56, 88, 105, 156, 270, 299, 340, 403, 549, 499], \"width\": [0.5, 0.5, 0.5, 0.5, 0.5, 0.5, 0.5, 0.5, 0.5, 0.5, 0.5, 0.5, 0.5, 0.5, 0.5, 0.5, 0.5, 0.5], \"name\": \"China\", \"marker\": {\"color\": \"rgb(58,200,225)\"}}], {\"title\": \"US Export of Plastic Scrap\", \"xaxis\": {\"tickfont\": {\"size\": 14, \"color\": \"rgb(107, 107, 107)\"}}, \"yaxis\": {\"title\": \"USD (millions)\", \"titlefont\": {\"size\": 16, \"color\": \"rgb(107, 107, 107)\"}, \"tickfont\": {\"size\": 14, \"color\": \"rgb(107, 107, 107)\"}}, \"legend\": {\"x\": 0, \"y\": 1.0, \"bgcolor\": \"rgba(255, 255, 255, 0)\", \"bordercolor\": \"rgba(255, 255, 255, 0)\"}, \"barmode\": \"overlay\", \"bargap\": 0.15, \"bargroupgap\": 0.1}, {\"showLink\": true, \"linkText\": \"Export to plot.ly\"})});</script>"
      ]
     },
     "metadata": {},
     "output_type": "display_data"
    }
   ],
   "source": [
    "import plotly.offline as py\n",
    "import plotly.graph_objs as go\n",
    "\n",
    "py.init_notebook_mode(connected=True)\n",
    "trace1 = go.Bar(\n",
    "    x=[1995, 1996, 1997, 1998, 1999, 2000, 2001, 2002, 2003,\n",
    "       2004, 2005, 2006, 2007, 2008, 2009, 2010, 2011, 2012],\n",
    "    y=[219, 146, 112, 127, 124, 180, 236, 207, 236, 263,\n",
    "       350, 430, 474, 526, 488, 537, 500, 439],\n",
    "    name='Rest of world',\n",
    "    marker=dict(\n",
    "        color='rgb(158,202,225)',\n",
    "        ),\n",
    "    opacity=0.6\n",
    ")\n",
    "trace2 = go.Bar(\n",
    "    x=[1995, 1996, 1997, 1998, 1999, 2000, 2001, 2002, 2003,\n",
    "       2004, 2005, 2006, 2007, 2008, 2009, 2010, 2011, 2012],\n",
    "    y=[16, 13, 10, 11, 28, 37, 43, 55, 56, 88, 105, 156, 270,\n",
    "       299, 340, 403, 549, 499],\n",
    "    width = [0.5] * 18,\n",
    "    name='China',\n",
    "    marker=dict(\n",
    "        color='rgb(58,200,225)',\n",
    "        ),\n",
    ")\n",
    "data = [trace1, trace2]\n",
    "layout = go.Layout(\n",
    "    title='US Export of Plastic Scrap',\n",
    "    xaxis=dict(\n",
    "        tickfont=dict(\n",
    "            size=14,\n",
    "            color='rgb(107, 107, 107)'\n",
    "        )\n",
    "    ),\n",
    "    yaxis=dict(\n",
    "        title='USD (millions)',\n",
    "        titlefont=dict(\n",
    "            size=16,\n",
    "            color='rgb(107, 107, 107)'\n",
    "        ),\n",
    "        tickfont=dict(\n",
    "            size=14,\n",
    "            color='rgb(107, 107, 107)'\n",
    "        )\n",
    "    ),\n",
    "    legend=dict(\n",
    "        x=0,\n",
    "        y=1.0,\n",
    "        bgcolor='rgba(255, 255, 255, 0)',\n",
    "        bordercolor='rgba(255, 255, 255, 0)'\n",
    "    ),\n",
    "    barmode='overlay',\n",
    "    bargap=0.15,\n",
    "    bargroupgap=0.1\n",
    ")\n",
    "\n",
    "fig = go.Figure(data=data, layout=layout)\n",
    "py.iplot(fig, filename='style-bar')"
   ]
  },
  {
   "cell_type": "code",
   "execution_count": 17,
   "metadata": {
    "collapsed": true
   },
   "outputs": [],
   "source": [
    "width = [12] * 18"
   ]
  },
  {
   "cell_type": "code",
   "execution_count": 18,
   "metadata": {},
   "outputs": [
    {
     "data": {
      "text/plain": [
       "[10, 10, 10, 10, 10, 10, 10, 10, 10, 10, 10, 10, 10, 10, 10, 10, 10, 10]"
      ]
     },
     "execution_count": 18,
     "metadata": {},
     "output_type": "execute_result"
    }
   ],
   "source": [
    "width"
   ]
  },
  {
   "cell_type": "code",
   "execution_count": null,
   "metadata": {
    "collapsed": true
   },
   "outputs": [],
   "source": []
  }
 ],
 "metadata": {
  "kernelspec": {
   "display_name": "Python 3",
   "language": "python",
   "name": "python3"
  },
  "language_info": {
   "codemirror_mode": {
    "name": "ipython",
    "version": 3
   },
   "file_extension": ".py",
   "mimetype": "text/x-python",
   "name": "python",
   "nbconvert_exporter": "python",
   "pygments_lexer": "ipython3",
   "version": "3.6.2"
  }
 },
 "nbformat": 4,
 "nbformat_minor": 2
}
